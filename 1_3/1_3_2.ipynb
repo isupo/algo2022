{
 "cells": [
  {
   "cell_type": "markdown",
   "id": "2ca844df",
   "metadata": {},
   "source": [
    "На вход поступает последовательность из нулей и единиц.  \n",
    "Необходимо найти индекс первой единицы, которая встречается в массиве "
   ]
  },
  {
   "cell_type": "code",
   "execution_count": 3,
   "id": "c0626357",
   "metadata": {},
   "outputs": [
    {
     "name": "stdout",
     "output_type": "stream",
     "text": [
      "0 0 0 0 0 0 1 1 1 1\n",
      "6\n"
     ]
    }
   ],
   "source": [
    "data = list(map(int, input().split()))\n",
    "\n",
    "l, r = -1, len(data)\n",
    "while l + 1 < r:\n",
    "    mid = (r + l) // 2\n",
    "    if data[mid] == 0:\n",
    "        l = mid \n",
    "    else:\n",
    "        r = mid\n",
    "\n",
    "print(r)\n",
    "\n",
    "\n",
    "  "
   ]
  },
  {
   "cell_type": "markdown",
   "id": "fa15f64a",
   "metadata": {},
   "source": [
    "### Как работает наш алгоритм?\n",
    "Если мы встретили 0, то мы сдвигаем нашу левую границу  \n",
    "Если мы встретили 1, то мы сдвигаем нашу правую границу  \n",
    "В определенный момент l станет равно r, поэтому алгоритм сойдется  "
   ]
  },
  {
   "cell_type": "code",
   "execution_count": null,
   "id": "5d58d6e5",
   "metadata": {},
   "outputs": [],
   "source": []
  }
 ],
 "metadata": {
  "kernelspec": {
   "display_name": "Python 3 (ipykernel)",
   "language": "python",
   "name": "python3"
  },
  "language_info": {
   "codemirror_mode": {
    "name": "ipython",
    "version": 3
   },
   "file_extension": ".py",
   "mimetype": "text/x-python",
   "name": "python",
   "nbconvert_exporter": "python",
   "pygments_lexer": "ipython3",
   "version": "3.9.12"
  }
 },
 "nbformat": 4,
 "nbformat_minor": 5
}
