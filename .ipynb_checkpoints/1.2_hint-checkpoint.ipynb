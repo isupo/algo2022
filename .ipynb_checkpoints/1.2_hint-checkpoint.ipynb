{
 "cells": [
  {
   "cell_type": "code",
   "execution_count": null,
   "id": "c30021d6",
   "metadata": {},
   "outputs": [],
   "source": [
    "# Шаг 6\n",
    "# Это поможет ускорить чтение данных = ускорить работу программы\n",
    "import sys\n",
    "input = sys.stdin.readline\n",
    "\n",
    "# считывать у себя можно вот так.\n",
    "n, q = map(int, input().split())\n",
    "data = list(map(int, input().split()))\n",
    "# а далее уже при отправке дополнить двумя первыми строчками\n",
    "\n",
    "ТУТ КОД\n",
    "# лучше всего создать переменную для ответа \n",
    "res = [] \n",
    "ТУТ КОД\n",
    "\n",
    "# после чего разом вывести всё-всё\n",
    "print(*res, sep='\\n')\n"
   ]
  },
  {
   "cell_type": "code",
   "execution_count": null,
   "id": "ffaa0878",
   "metadata": {},
   "outputs": [],
   "source": [
    "# Шаг 7\n",
    "# Всё очень просто.\n",
    "\n",
    "\n",
    "n = int(input())\n",
    "data = map(int, input().split())\n",
    "max = - 10 ** 9  # в этой переменной будем хранить абсолютный максимум среди всех сумм\n",
    "max_now = 0 # в этой переменной будем хранить локальный максимум\n",
    "\n",
    "# Подсказка. Если в какой-то момент локальная сумма будет меньше нуля, то мы можем от неё избавиться\n",
    "ТУТ КОД\n",
    "print(max)"
   ]
  },
  {
   "cell_type": "code",
   "execution_count": null,
   "id": "6e559ce7",
   "metadata": {},
   "outputs": [],
   "source": [
    "# Шаг 8\n",
    "# бежим вверх и проверяем все-все чиселки\n",
    "# нужно бежать от n + 1 до 98765431 \n",
    "# сами подумайте почему"
   ]
  },
  {
   "cell_type": "code",
   "execution_count": null,
   "id": "6df292be",
   "metadata": {},
   "outputs": [],
   "source": []
  }
 ],
 "metadata": {
  "kernelspec": {
   "display_name": "Python 3 (ipykernel)",
   "language": "python",
   "name": "python3"
  },
  "language_info": {
   "codemirror_mode": {
    "name": "ipython",
    "version": 3
   },
   "file_extension": ".py",
   "mimetype": "text/x-python",
   "name": "python",
   "nbconvert_exporter": "python",
   "pygments_lexer": "ipython3",
   "version": "3.9.12"
  }
 },
 "nbformat": 4,
 "nbformat_minor": 5
}
