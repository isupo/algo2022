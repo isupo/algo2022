{
 "cells": [
  {
   "cell_type": "code",
   "execution_count": null,
   "id": "f0886fde",
   "metadata": {},
   "outputs": [],
   "source": [
    "# Шаг 8\n",
    "# бежим вверх и проверяем все-все чиселки\n",
    "# нужно бежать от n + 1 до 98765431 \n",
    "# сами подумайте почему"
   ]
  }
 ],
 "metadata": {
  "kernelspec": {
   "display_name": "Python 3 (ipykernel)",
   "language": "python",
   "name": "python3"
  },
  "language_info": {
   "codemirror_mode": {
    "name": "ipython",
    "version": 3
   },
   "file_extension": ".py",
   "mimetype": "text/x-python",
   "name": "python",
   "nbconvert_exporter": "python",
   "pygments_lexer": "ipython3",
   "version": "3.9.12"
  }
 },
 "nbformat": 4,
 "nbformat_minor": 5
}
