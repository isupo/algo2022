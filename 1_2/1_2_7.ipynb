{
 "cells": [
  {
   "cell_type": "code",
   "execution_count": null,
   "id": "86981dc2",
   "metadata": {},
   "outputs": [],
   "source": [
    "# Шаг 7\n",
    "# Всё очень просто.\n",
    "\n",
    "\n",
    "n = int(input())\n",
    "data = map(int, input().split())\n",
    "max = - 10 ** 9  # в этой переменной будем хранить абсолютный максимум среди всех сумм\n",
    "max_now = 0 # в этой переменной будем хранить локальный максимум\n",
    "\n",
    "# Подсказка. Если в какой-то момент локальная сумма будет меньше нуля, то мы можем от неё избавиться\n",
    "ТУТ КОД\n",
    "print(max)"
   ]
  }
 ],
 "metadata": {
  "kernelspec": {
   "display_name": "Python 3 (ipykernel)",
   "language": "python",
   "name": "python3"
  },
  "language_info": {
   "codemirror_mode": {
    "name": "ipython",
    "version": 3
   },
   "file_extension": ".py",
   "mimetype": "text/x-python",
   "name": "python",
   "nbconvert_exporter": "python",
   "pygments_lexer": "ipython3",
   "version": "3.9.12"
  }
 },
 "nbformat": 4,
 "nbformat_minor": 5
}
