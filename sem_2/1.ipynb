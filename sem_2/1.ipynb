{
 "cells": [
  {
   "cell_type": "code",
   "execution_count": 4,
   "id": "8a5cf561",
   "metadata": {},
   "outputs": [
    {
     "data": {
      "text/plain": [
       "('somedata\\n', 'somedata2')"
      ]
     },
     "execution_count": 4,
     "metadata": {},
     "output_type": "execute_result"
    }
   ],
   "source": [
    "#  encoding='cp1251'\n",
    "#  encoding='UTF-8'\n",
    "with open(\"data.txt\") as f:\n",
    "    a = f.readline()\n",
    "    b = f.readline()\n",
    "a, b"
   ]
  },
  {
   "cell_type": "code",
   "execution_count": 26,
   "id": "bb158c18",
   "metadata": {},
   "outputs": [
    {
     "data": {
      "text/plain": [
       "[2, 3, 1, 10, 9, 8, 6, 4, 5, 7]"
      ]
     },
     "execution_count": 26,
     "metadata": {},
     "output_type": "execute_result"
    }
   ],
   "source": [
    "with open(\"to_sort.txt\") as f:\n",
    "    to_sort = f.readline()\n",
    "# to_sort = input()\n",
    "to_sort = to_sort.split()\n",
    "\n",
    "to_sort2 = []\n",
    "for el in to_sort:\n",
    "    to_sort2.append(int(el))\n",
    "to_sort2"
   ]
  },
  {
   "cell_type": "code",
   "execution_count": 29,
   "id": "3e7fe420",
   "metadata": {},
   "outputs": [],
   "source": [
    "# 'w' = write \n",
    "with open(\"to_write.txt\", 'w', encoding='UTF-8') as f:\n",
    "    f.write(\"Этот текст я хочу записать в файл\")"
   ]
  },
  {
   "cell_type": "code",
   "execution_count": 30,
   "id": "f89fe1c6",
   "metadata": {},
   "outputs": [],
   "source": [
    "# Задания\n",
    "# 1 открыли файл и записали туда 2 числа\n",
    "# 2 открыли предущий файл и считали оттуда 2 числа, после этого сложили"
   ]
  },
  {
   "cell_type": "code",
   "execution_count": null,
   "id": "6584a9e6",
   "metadata": {},
   "outputs": [],
   "source": [
    "     "
   ]
  }
 ],
 "metadata": {
  "kernelspec": {
   "display_name": "Python 3 (ipykernel)",
   "language": "python",
   "name": "python3"
  },
  "language_info": {
   "codemirror_mode": {
    "name": "ipython",
    "version": 3
   },
   "file_extension": ".py",
   "mimetype": "text/x-python",
   "name": "python",
   "nbconvert_exporter": "python",
   "pygments_lexer": "ipython3",
   "version": "3.9.13"
  }
 },
 "nbformat": 4,
 "nbformat_minor": 5
}
