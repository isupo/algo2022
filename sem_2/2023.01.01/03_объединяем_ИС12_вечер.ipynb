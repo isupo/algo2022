{
 "cells": [
  {
   "cell_type": "code",
   "execution_count": 1,
   "id": "edb3b96d",
   "metadata": {},
   "outputs": [],
   "source": [
    "\"\"\"\n",
    "Класс покупки\n",
    "\"\"\"\n",
    "class ShopBuy:\n",
    "    def __init__(self):\n",
    "        self.data = []\n",
    "        \n",
    "    def add_to_basket(self, name, number, mera):\n",
    "        record = (name, number, mera)\n",
    "        self.data.append(record)\n",
    "        \n",
    "    def __str__(self):\n",
    "        result_str = ''\n",
    "        for el in self.data:\n",
    "            result_str += f'{el[0]}    {el[1]} {el[2]}\\n'\n",
    "         \n",
    "        return result_str \n",
    "    \n",
    "   \n",
    "    def to_html(self):\n",
    "        result_str = '<table>'\n",
    "        for el in self.data:\n",
    "            result_str += f'<tr><th>{el[0]}</th><th>{el[1]}</th><th>{el[2]}</th></tr>'\n",
    "        result_str += '</table>'\n",
    "        return result_str "
   ]
  },
  {
   "cell_type": "code",
   "execution_count": 2,
   "id": "429c1f03",
   "metadata": {},
   "outputs": [
    {
     "data": {
      "text/plain": [
       "[('Молоко', 1, 'л'),\n",
       " ('Хлеб', 2, 'батона'),\n",
       " ('Хлеб', 2, 'батона'),\n",
       " ('Хлеб', 2, 'батона'),\n",
       " ('Хлеб', 2, 'батона'),\n",
       " ('Пирожок', 2, 'батона')]"
      ]
     },
     "execution_count": 2,
     "metadata": {},
     "output_type": "execute_result"
    }
   ],
   "source": [
    "sb = ShopBuy()\n",
    "sb.add_to_basket('Молоко', 1, 'л')\n",
    "sb.add_to_basket('Хлеб', 2, 'батона')\n",
    "sb.add_to_basket('Хлеб', 2, 'батона')\n",
    "sb.add_to_basket('Хлеб', 2, 'батона')\n",
    "sb.add_to_basket('Хлеб', 2, 'батона')\n",
    "sb.add_to_basket('Пирожок', 2, 'батона')\n",
    "sb.data"
   ]
  },
  {
   "cell_type": "code",
   "execution_count": 3,
   "id": "1909c788",
   "metadata": {},
   "outputs": [],
   "source": [
    "html = \"\"\"\n",
    "<html>\n",
    "   <body>\n",
    "      <form action = \"http://localhost:5000/addbuy\" method = \"post\">\n",
    "         <p>Че надо:</p>\n",
    "         <p><input type = \"text\" name = \"name\" /></p>\n",
    "         <p><input type = \"text\" name = \"number\" /></p>\n",
    "         <p><input type = \"text\" name = \"mera\" /></p>\n",
    "         <p><input type = \"submit\" value = \"submit\" /></p>\n",
    "      </form>   \n",
    "   </body> \n",
    "</html>\n",
    "\"\"\""
   ]
  },
  {
   "cell_type": "code",
   "execution_count": 4,
   "id": "a2f0714e",
   "metadata": {},
   "outputs": [
    {
     "name": "stdout",
     "output_type": "stream",
     "text": [
      " * Serving Flask app \"__main__\" (lazy loading)\n",
      " * Environment: production\n",
      "\u001B[31m   WARNING: This is a development server. Do not use it in a production deployment.\u001B[0m\n",
      "\u001B[2m   Use a production WSGI server instead.\u001B[0m\n",
      " * Debug mode: off\n"
     ]
    },
    {
     "name": "stderr",
     "output_type": "stream",
     "text": [
      " * Running on http://127.0.0.1:5000/ (Press CTRL+C to quit)\n",
      "127.0.0.1 - - [01/Feb/2023 17:07:50] \"GET /addbuy HTTP/1.1\" 200 -\n",
      "127.0.0.1 - - [01/Feb/2023 17:07:54] \"POST /addbuy HTTP/1.1\" 302 -\n",
      "127.0.0.1 - - [01/Feb/2023 17:07:54] \"GET /shopbuy HTTP/1.1\" 200 -\n",
      "127.0.0.1 - - [01/Feb/2023 17:08:00] \"POST /addbuy HTTP/1.1\" 302 -\n",
      "127.0.0.1 - - [01/Feb/2023 17:08:01] \"GET /shopbuy HTTP/1.1\" 200 -\n",
      "127.0.0.1 - - [01/Feb/2023 17:08:23] \"POST /addbuy HTTP/1.1\" 302 -\n",
      "127.0.0.1 - - [01/Feb/2023 17:08:23] \"GET /shopbuy HTTP/1.1\" 200 -\n",
      "127.0.0.1 - - [01/Feb/2023 17:10:09] \"POST /addbuy HTTP/1.1\" 302 -\n",
      "127.0.0.1 - - [01/Feb/2023 17:10:09] \"GET /shopbuy HTTP/1.1\" 200 -\n",
      "127.0.0.1 - - [01/Feb/2023 17:10:12] \"GET /shopbuy HTTP/1.1\" 200 -\n",
      "127.0.0.1 - - [01/Feb/2023 17:10:12] \"GET /shopbuy HTTP/1.1\" 200 -\n",
      "127.0.0.1 - - [01/Feb/2023 17:10:12] \"GET /shopbuy HTTP/1.1\" 200 -\n",
      "127.0.0.1 - - [01/Feb/2023 17:10:13] \"GET /shopbuy HTTP/1.1\" 200 -\n",
      "127.0.0.1 - - [01/Feb/2023 17:10:13] \"GET /shopbuy HTTP/1.1\" 200 -\n",
      "127.0.0.1 - - [01/Feb/2023 17:10:13] \"GET /shopbuy HTTP/1.1\" 200 -\n",
      "127.0.0.1 - - [01/Feb/2023 17:10:13] \"GET /shopbuy HTTP/1.1\" 200 -\n",
      "127.0.0.1 - - [01/Feb/2023 17:10:13] \"GET /shopbuy HTTP/1.1\" 200 -\n",
      "127.0.0.1 - - [01/Feb/2023 17:10:14] \"GET /shopbuy HTTP/1.1\" 200 -\n"
     ]
    }
   ],
   "source": [
    "from flask import Flask\n",
    "from flask import redirect, url_for, request\n",
    "app = Flask(__name__)\n",
    "\n",
    "@app.route('/')\n",
    "def hello_world():\n",
    "    return '<h2>Hello World!</h2>'\n",
    "\n",
    "@app.route('/shopbuy')\n",
    "def hello_world2():\n",
    "    return sb.to_html()\n",
    "\n",
    "\n",
    "@app.route('/addbuy',methods = ['POST', 'GET'])\n",
    "def add_buy():\n",
    "    if request.method == 'POST':\n",
    "        name = request.form['name']\n",
    "        number = request.form['number']\n",
    "        mera = request.form['mera']\n",
    "        \n",
    "        sb.add_to_basket(name, number, mera)\n",
    "        return redirect('/shopbuy')\n",
    "    else:\n",
    "        return html\n",
    "\n",
    "app.run()"
   ]
  },
  {
   "cell_type": "code",
   "execution_count": null,
   "id": "72a18018",
   "metadata": {},
   "outputs": [],
   "source": []
  },
  {
   "cell_type": "code",
   "execution_count": null,
   "id": "966b7ba9",
   "metadata": {},
   "outputs": [],
   "source": []
  }
 ],
 "metadata": {
  "kernelspec": {
   "display_name": "Python 3 (ipykernel)",
   "language": "python",
   "name": "python3"
  },
  "language_info": {
   "codemirror_mode": {
    "name": "ipython",
    "version": 3
   },
   "file_extension": ".py",
   "mimetype": "text/x-python",
   "name": "python",
   "nbconvert_exporter": "python",
   "pygments_lexer": "ipython3",
   "version": "3.9.13"
  }
 },
 "nbformat": 4,
 "nbformat_minor": 5
}
