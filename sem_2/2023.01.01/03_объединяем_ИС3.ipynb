{
 "cells": [
  {
   "cell_type": "code",
   "execution_count": 1,
   "id": "580b446b",
   "metadata": {},
   "outputs": [
    {
     "name": "stdout",
     "output_type": "stream",
     "text": [
      "Молочко  2 л</br>Кура  3 ножки</br>\n"
     ]
    }
   ],
   "source": [
    "\"\"\"\n",
    "Класс покупки\n",
    "\"\"\"\n",
    "class BestBuy:\n",
    "    def __init__(self):\n",
    "        self.data = []\n",
    "    \n",
    "    def __str__(self):\n",
    "        union_str = ''\n",
    "        for el in self.data:\n",
    "            union_str += f'{el[0]}  {el[1]} {el[2]}</br>' \n",
    "        return union_str\n",
    "    \n",
    "    def to_html1(self):\n",
    "        union_str = '<ul>'\n",
    "        for el in self.data:\n",
    "            union_str += f'<li>{el[0]}  {el[1]} {el[2]}</li>' \n",
    "        return union_str\n",
    "    \n",
    "    def to_html2(self):\n",
    "        union_str = '<table>'\n",
    "        for el in self.data:\n",
    "            union_str += f'<th>{el[0]}</th><th>{el[1]}</th><th>{el[2]}</tr>' \n",
    "            \n",
    "        union_str += '</table>'\n",
    "        return union_str\n",
    " \n",
    " \n",
    "    def add_buy(self, name, value, weight):\n",
    "        record = (name, value, weight)\n",
    "        self.data.append(record)\n",
    "\n",
    "bb = BestBuy()\n",
    "bb.add_buy('Молочко', 2, 'л')\n",
    "bb.add_buy('Кура', 3, 'ножки')\n",
    "print(bb)"
   ]
  },
  {
   "cell_type": "markdown",
   "id": "28bb641f",
   "metadata": {},
   "source": [
    "Молочко______2л\n",
    "Кура_____3ножки"
   ]
  },
  {
   "cell_type": "code",
   "execution_count": 2,
   "id": "b3ce21cd",
   "metadata": {},
   "outputs": [],
   "source": [
    "html = \"\"\"\n",
    "<html>\n",
    "   <body>\n",
    "      <form action = \"http://localhost:5000/addbuy\" method = \"post\">\n",
    "         <p>Enter чё надо:</p>\n",
    "         <p><input type = \"text\" name = \"name\" /></p>\n",
    "         <p><input type = \"text\" name = \"value\" /></p>\n",
    "         <p><input type = \"text\" name = \"weight\" /></p>\n",
    "         <p><input type = \"submit\" value = \"submit\" /></p>\n",
    "      </form>   \n",
    "   </body>\n",
    "\"\"\""
   ]
  },
  {
   "cell_type": "code",
   "execution_count": null,
   "id": "36ef868f",
   "metadata": {},
   "outputs": [
    {
     "name": "stdout",
     "output_type": "stream",
     "text": [
      " * Serving Flask app \"__main__\" (lazy loading)\n",
      " * Environment: production\n",
      "\u001B[31m   WARNING: This is a development server. Do not use it in a production deployment.\u001B[0m\n",
      "\u001B[2m   Use a production WSGI server instead.\u001B[0m\n",
      " * Debug mode: off\n"
     ]
    },
    {
     "name": "stderr",
     "output_type": "stream",
     "text": [
      " * Running on http://127.0.0.1:5000/ (Press CTRL+C to quit)\n",
      "127.0.0.1 - - [01/Feb/2023 14:08:00] \"GET /login HTTP/1.1\" 404 -\n",
      "127.0.0.1 - - [01/Feb/2023 14:08:05] \"GET /addbuy HTTP/1.1\" 200 -\n",
      "127.0.0.1 - - [01/Feb/2023 14:08:12] \"POST /addbuy HTTP/1.1\" 302 -\n",
      "127.0.0.1 - - [01/Feb/2023 14:08:12] \"GET /bestbuy HTTP/1.1\" 200 -\n",
      "127.0.0.1 - - [01/Feb/2023 14:08:28] \"POST /addbuy HTTP/1.1\" 302 -\n",
      "127.0.0.1 - - [01/Feb/2023 14:08:28] \"GET /bestbuy HTTP/1.1\" 200 -\n"
     ]
    }
   ],
   "source": [
    "from flask import Flask\n",
    "from flask import redirect, url_for, request\n",
    "app = Flask(__name__)\n",
    "\n",
    "@app.route('/')\n",
    "def hello_world():\n",
    "    return '<h1>Hello World!</h1>'\n",
    "\n",
    "\n",
    "@app.route('/bestbuy')\n",
    "def best_buy():\n",
    "    return bb.to_html2() + 'любой текст вообще который вы захотите'\n",
    "\n",
    "\n",
    "@app.route('/addbuy', methods = ['POST', 'GET'])\n",
    "def add_buy():\n",
    "    if request.method == 'POST':\n",
    "        name = request.form['name']\n",
    "        value = request.form['value']\n",
    "        weight = request.form['weight']\n",
    "        bb.add_buy(name, value, weight)\n",
    "        return redirect('/bestbuy')\n",
    "    else: \n",
    "        return html\n",
    "\n",
    "app.run()"
   ]
  },
  {
   "cell_type": "code",
   "execution_count": null,
   "id": "de84373b",
   "metadata": {},
   "outputs": [],
   "source": []
  }
 ],
 "metadata": {
  "kernelspec": {
   "display_name": "Python 3 (ipykernel)",
   "language": "python",
   "name": "python3"
  },
  "language_info": {
   "codemirror_mode": {
    "name": "ipython",
    "version": 3
   },
   "file_extension": ".py",
   "mimetype": "text/x-python",
   "name": "python",
   "nbconvert_exporter": "python",
   "pygments_lexer": "ipython3",
   "version": "3.9.13"
  }
 },
 "nbformat": 4,
 "nbformat_minor": 5
}
