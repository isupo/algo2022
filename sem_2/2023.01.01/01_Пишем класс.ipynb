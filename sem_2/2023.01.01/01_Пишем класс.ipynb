{
 "cells": [
  {
   "cell_type": "code",
   "execution_count": 14,
   "id": "74d47d04",
   "metadata": {},
   "outputs": [],
   "source": [
    "\"\"\"\n",
    "Хранить список покупок\n",
    "\n",
    "\"\"\"\n",
    "class Shop:\n",
    "    def __init__(self):\n",
    "        self.data = [] \n",
    "    \n",
    "    def push_new_buy(self, item, quantity, package):\n",
    "        record = (item, quantity, package)\n",
    "        self.data.append(record)\n",
    "    \n",
    "    def __str__(self):\n",
    "        s = ''\n",
    "        max_size = 10\n",
    "        for el in self.data:\n",
    "            el1 = el[0] + ' ' * (max_size - len(el[0]))\n",
    "            s += f\"{el1} | {el[1]} | {el[2]} \\n\"\n",
    "        return s\n"
   ]
  },
  {
   "cell_type": "code",
   "execution_count": 15,
   "id": "e1fa5ae8",
   "metadata": {},
   "outputs": [
    {
     "name": "stdout",
     "output_type": "stream",
     "text": [
      "Молоко     | 3 | л \n",
      "Греча      | 2 | кг \n",
      "\n"
     ]
    }
   ],
   "source": [
    "shop = Shop()\n",
    "shop.push_new_buy('Молоко', 3, 'л')\n",
    "shop.push_new_buy('Греча', 2, 'кг')\n",
    "print(shop)"
   ]
  }
 ],
 "metadata": {
  "kernelspec": {
   "display_name": "Python 3 (ipykernel)",
   "language": "python",
   "name": "python3"
  },
  "language_info": {
   "codemirror_mode": {
    "name": "ipython",
    "version": 3
   },
   "file_extension": ".py",
   "mimetype": "text/x-python",
   "name": "python",
   "nbconvert_exporter": "python",
   "pygments_lexer": "ipython3",
   "version": "3.9.13"
  }
 },
 "nbformat": 4,
 "nbformat_minor": 5
}
