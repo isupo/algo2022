{
 "cells": [
  {
   "cell_type": "code",
   "execution_count": 7,
   "id": "6fc9bc47",
   "metadata": {},
   "outputs": [],
   "source": [
    "data = ['Артем', 'Влад', 'Даниил']\n",
    "\n",
    "with open('list.txt', 'w', encoding='UTF-8') as f:\n",
    "    for el in data:\n",
    "        f.writelines(el + '\\n')"
   ]
  },
  {
   "cell_type": "code",
   "execution_count": 8,
   "id": "f5447b8f",
   "metadata": {},
   "outputs": [],
   "source": [
    "# Напишем класс \"псевдо бд\""
   ]
  },
  {
   "cell_type": "code",
   "execution_count": 35,
   "id": "7ba743e1",
   "metadata": {},
   "outputs": [],
   "source": [
    "class MyDB:\n",
    "    def __init__(self, filename='db.txt'):\n",
    "        self.db = filename\n",
    "        with open(filename, 'a', encoding='UTF-8') as f:\n",
    "            f.write('')\n",
    "    \n",
    "    def add(self, data: str):\n",
    "        with open(self.db, 'a', encoding='UTF-8') as f:\n",
    "            f.write(data + '\\n')\n",
    "            \n",
    "    def output(self):\n",
    "        with open(self.db, encoding='UTF-8') as f:\n",
    "            return f.readlines()"
   ]
  },
  {
   "cell_type": "code",
   "execution_count": 36,
   "id": "95a34d3a",
   "metadata": {},
   "outputs": [],
   "source": [
    "db = MyDB('bd.txt')\n",
    "db.add('Место для вашей рекламы')\n",
    "db.add('Место для вашей рекламы2')\n",
    "db.add('Место для вашей рекламы3')"
   ]
  },
  {
   "cell_type": "code",
   "execution_count": 37,
   "id": "943a6218",
   "metadata": {},
   "outputs": [
    {
     "data": {
      "text/plain": [
       "['Место для вашей рекламы\\n',\n",
       " 'Место для вашей рекламы\\n',\n",
       " 'Место для вашей рекламы2\\n',\n",
       " 'Место для вашей рекламы3\\n',\n",
       " 'Место для вашей рекламы\\n',\n",
       " 'Место для вашей рекламы2\\n',\n",
       " 'Место для вашей рекламы3\\n']"
      ]
     },
     "execution_count": 37,
     "metadata": {},
     "output_type": "execute_result"
    }
   ],
   "source": [
    "db.output()"
   ]
  },
  {
   "cell_type": "code",
   "execution_count": 19,
   "id": "c41452c8",
   "metadata": {},
   "outputs": [],
   "source": [
    "\n",
    "with open('db.txt', 'a', encoding='UTF-8') as f:\n",
    "    f.write('lalalal1\\n')"
   ]
  },
  {
   "cell_type": "code",
   "execution_count": 20,
   "id": "fba1b46a",
   "metadata": {},
   "outputs": [],
   "source": [
    "\n",
    "with open('db.txt', 'a', encoding='UTF-8') as f:\n",
    "    f.write('lalalal2\\n')"
   ]
  },
  {
   "cell_type": "code",
   "execution_count": null,
   "id": "ad308a28",
   "metadata": {},
   "outputs": [],
   "source": []
  }
 ],
 "metadata": {
  "kernelspec": {
   "display_name": "Python 3 (ipykernel)",
   "language": "python",
   "name": "python3"
  },
  "language_info": {
   "codemirror_mode": {
    "name": "ipython",
    "version": 3
   },
   "file_extension": ".py",
   "mimetype": "text/x-python",
   "name": "python",
   "nbconvert_exporter": "python",
   "pygments_lexer": "ipython3",
   "version": "3.9.13"
  }
 },
 "nbformat": 4,
 "nbformat_minor": 5
}
