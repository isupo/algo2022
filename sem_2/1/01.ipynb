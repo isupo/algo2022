{
 "cells": [
  {
   "cell_type": "markdown",
   "id": "7ad47e79",
   "metadata": {},
   "source": [
    "### И еще раз о функциях"
   ]
  },
  {
   "cell_type": "code",
   "execution_count": 1,
   "id": "190f3d3c",
   "metadata": {},
   "outputs": [],
   "source": [
    "def some_name():\n",
    "    pass"
   ]
  },
  {
   "cell_type": "markdown",
   "id": "87a97844",
   "metadata": {},
   "source": [
    "### Имя функции пишется маленькими буквами через нижние подчеркивания\n",
    "### Даются осознанно"
   ]
  },
  {
   "cell_type": "markdown",
   "id": "8d561de7",
   "metadata": {},
   "source": [
    "### Если мы хотим пропустить некоторое значение, то пишем pass, иначе код не запустится"
   ]
  },
  {
   "cell_type": "code",
   "execution_count": 2,
   "id": "d657d89c",
   "metadata": {},
   "outputs": [
    {
     "ename": "IndentationError",
     "evalue": "expected an indented block (4267888013.py, line 1)",
     "output_type": "error",
     "traceback": [
      "\u001b[1;36m  Input \u001b[1;32mIn [2]\u001b[1;36m\u001b[0m\n\u001b[1;33m    def some_name():\u001b[0m\n\u001b[1;37m                    ^\u001b[0m\n\u001b[1;31mIndentationError\u001b[0m\u001b[1;31m:\u001b[0m expected an indented block\n"
     ]
    }
   ],
   "source": [
    "def some_name():"
   ]
  },
  {
   "cell_type": "code",
   "execution_count": null,
   "id": "ccd716da",
   "metadata": {},
   "outputs": [],
   "source": [
    "def some_name():\n",
    "    \"\"\"\n",
    "    тут пишем документацию\n",
    "    \"\"\"\n",
    "    pass"
   ]
  },
  {
   "cell_type": "code",
   "execution_count": null,
   "id": "9c706a33",
   "metadata": {},
   "outputs": [],
   "source": [
    "some_name.__doc__"
   ]
  },
  {
   "cell_type": "markdown",
   "id": "d45ae4b2",
   "metadata": {},
   "source": [
    "### Документация - многострочный комментарий сразу после названия\n",
    "\n",
    "### pass это заглушка на будущее\n",
    "### Можно создать несколько пустых функций с хорошими названиями, правильным и кратким описанием, продумав заранее архитектуру, а код написать позже"
   ]
  },
  {
   "cell_type": "code",
   "execution_count": null,
   "id": "c3e174b8",
   "metadata": {},
   "outputs": [],
   "source": [
    "def some_name(a, b):\n",
    "    return str(a) + str(b) # при вызове return функция прекратит работу и вернет это значение"
   ]
  },
  {
   "cell_type": "code",
   "execution_count": null,
   "id": "dbf57774",
   "metadata": {},
   "outputs": [],
   "source": [
    "some_name(123, 456)"
   ]
  },
  {
   "cell_type": "code",
   "execution_count": null,
   "id": "26f5b252",
   "metadata": {},
   "outputs": [],
   "source": [
    "def some_name(a, b):\n",
    "    pass\n",
    "print(some_name(1, 2)) # а если нет return или функция дошла до конца, то возращается None"
   ]
  },
  {
   "cell_type": "markdown",
   "id": "9b4d41a9",
   "metadata": {},
   "source": [
    "## Именнованные и неименованные аргументы"
   ]
  },
  {
   "cell_type": "code",
   "execution_count": null,
   "id": "b48f002d",
   "metadata": {},
   "outputs": [],
   "source": [
    "def some_name(a, b):\n",
    "    return str(a) + str(b)"
   ]
  },
  {
   "cell_type": "code",
   "execution_count": null,
   "id": "a96223ed",
   "metadata": {},
   "outputs": [],
   "source": [
    "# что выдаст \n",
    "some_name(1, 2)"
   ]
  },
  {
   "cell_type": "code",
   "execution_count": null,
   "id": "492d2652",
   "metadata": {},
   "outputs": [],
   "source": [
    "# что выдаст \n",
    "some_name(2, 1)"
   ]
  },
  {
   "cell_type": "code",
   "execution_count": null,
   "id": "3c83d8c1",
   "metadata": {},
   "outputs": [],
   "source": [
    "# что выдаст \n",
    "some_name(a=1, b=2)"
   ]
  },
  {
   "cell_type": "code",
   "execution_count": null,
   "id": "82e55dd2",
   "metadata": {},
   "outputs": [],
   "source": [
    "# что выдаст \n",
    "some_name(b=1, a=2)"
   ]
  },
  {
   "cell_type": "code",
   "execution_count": null,
   "id": "8f916168",
   "metadata": {},
   "outputs": [],
   "source": [
    "# аргументы по умолчанию\n",
    "def some_name(a=1, b=2):\n",
    "    return str(a) + str(b)\n",
    "some_name()"
   ]
  },
  {
   "cell_type": "code",
   "execution_count": null,
   "id": "00e554dd",
   "metadata": {},
   "outputs": [],
   "source": [
    "some_name(3)"
   ]
  },
  {
   "cell_type": "code",
   "execution_count": null,
   "id": "6d21159f",
   "metadata": {},
   "outputs": [],
   "source": [
    "some_name(b=3)"
   ]
  },
  {
   "cell_type": "code",
   "execution_count": null,
   "id": "58057634",
   "metadata": {},
   "outputs": [],
   "source": [
    "### Импортирование функций\n",
    "from lib_01 import some_real_name"
   ]
  },
  {
   "cell_type": "code",
   "execution_count": null,
   "id": "72d69b1b",
   "metadata": {},
   "outputs": [],
   "source": [
    "some_real_name(1, 2)"
   ]
  },
  {
   "cell_type": "code",
   "execution_count": 3,
   "id": "9d6635ff",
   "metadata": {},
   "outputs": [],
   "source": [
    "from src.lib_02 import some_real_name as some_real_name2"
   ]
  },
  {
   "cell_type": "code",
   "execution_count": 4,
   "id": "c8ea0706",
   "metadata": {},
   "outputs": [
    {
     "data": {
      "text/plain": [
       "7"
      ]
     },
     "execution_count": 4,
     "metadata": {},
     "output_type": "execute_result"
    }
   ],
   "source": [
    "some_real_name2(1, 2)"
   ]
  },
  {
   "cell_type": "markdown",
   "id": "202b8e95",
   "metadata": {},
   "source": [
    "### Проверки"
   ]
  },
  {
   "cell_type": "code",
   "execution_count": 8,
   "id": "6ed61f85",
   "metadata": {},
   "outputs": [
    {
     "ename": "AssertionError",
     "evalue": "",
     "output_type": "error",
     "traceback": [
      "\u001b[1;31m---------------------------------------------------------------------------\u001b[0m",
      "\u001b[1;31mAssertionError\u001b[0m                            Traceback (most recent call last)",
      "Input \u001b[1;32mIn [8]\u001b[0m, in \u001b[0;36m<cell line: 1>\u001b[1;34m()\u001b[0m\n\u001b[1;32m----> 1\u001b[0m \u001b[38;5;28;01massert\u001b[39;00m some_real_name2(\u001b[38;5;241m1\u001b[39m, \u001b[38;5;241m2\u001b[39m) \u001b[38;5;241m==\u001b[39m \u001b[38;5;241m6\u001b[39m\n",
      "\u001b[1;31mAssertionError\u001b[0m: "
     ]
    }
   ],
   "source": [
    "assert some_real_name2(1, 2) == 6"
   ]
  },
  {
   "cell_type": "code",
   "execution_count": 9,
   "id": "5ba26267",
   "metadata": {},
   "outputs": [],
   "source": [
    "assert some_real_name2(1, 2) == 7"
   ]
  },
  {
   "cell_type": "markdown",
   "id": "1748d111",
   "metadata": {},
   "source": [
    "### Как и зачем\n",
    "- При разработке мы всегда пишем тесты. Вообще всегда\n",
    "- В реальности мы можем через тесты написать, что хотим "
   ]
  },
  {
   "cell_type": "code",
   "execution_count": null,
   "id": "cafee634",
   "metadata": {},
   "outputs": [],
   "source": []
  }
 ],
 "metadata": {
  "kernelspec": {
   "display_name": "Python 3 (ipykernel)",
   "language": "python",
   "name": "python3"
  },
  "language_info": {
   "codemirror_mode": {
    "name": "ipython",
    "version": 3
   },
   "file_extension": ".py",
   "mimetype": "text/x-python",
   "name": "python",
   "nbconvert_exporter": "python",
   "pygments_lexer": "ipython3",
   "version": "3.9.12"
  }
 },
 "nbformat": 4,
 "nbformat_minor": 5
}
