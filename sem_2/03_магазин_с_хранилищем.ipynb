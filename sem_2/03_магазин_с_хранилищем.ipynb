{
 "cells": [
  {
   "cell_type": "code",
   "execution_count": 1,
   "id": "f7944f19",
   "metadata": {},
   "outputs": [],
   "source": [
    "class MyDB:\n",
    "    def __init__(self, filename='db.txt'):\n",
    "        self.db = filename\n",
    "        with open(filename, 'a', encoding='UTF-8') as f:\n",
    "            f.write('')\n",
    "    \n",
    "    def add(self, data: str):\n",
    "        with open(self.db, 'a', encoding='UTF-8') as f:\n",
    "            f.write(data + '\\n')\n",
    "            \n",
    "    def output(self):\n",
    "        with open(self.db, encoding='UTF-8') as f:\n",
    "            return f.readlines()"
   ]
  },
  {
   "cell_type": "code",
   "execution_count": 7,
   "id": "4f19231d",
   "metadata": {},
   "outputs": [],
   "source": [
    "\"\"\"\n",
    "Хранить список покупок\n",
    "\n",
    "\"\"\"\n",
    "class Shop:\n",
    "    def __init__(self, dbname: str):\n",
    "        # я храню базу данных внутри нашего магазина\n",
    "        self.db = MyDB(dbname)\n",
    "    \n",
    "    def push_new_buy(self, item, quantity, package):\n",
    "        # я делаю из записей строку\n",
    "        record = item + ' ' +  str(quantity) + ' ' + package\n",
    "        # с помощью ранее написанного класса мы добавляем запись в хранилище\n",
    "        self.db.add(record)\n",
    "    \n",
    "    def __str__(self):\n",
    "        s = ''\n",
    "        # с помощью ранее написанного класса мы читаем всё из хранилища \n",
    "        # и просто возращаем\n",
    "        for el in self.db.output():             \n",
    "            s += el + \" <br>\"\n",
    "        return s\n"
   ]
  },
  {
   "cell_type": "code",
   "execution_count": 8,
   "id": "8ef75f11",
   "metadata": {},
   "outputs": [
    {
     "name": "stdout",
     "output_type": "stream",
     "text": [
      "Молоко 3 л\n",
      " <br>Греча 2 кг\n",
      " <br>Молоко 3 л\n",
      " <br>Греча 2 кг\n",
      " <br>\n"
     ]
    }
   ],
   "source": [
    "shop = Shop('shopdb.txt')\n",
    "shop.push_new_buy('Молоко', 3, 'л')\n",
    "shop.push_new_buy('Греча', 2, 'кг')\n",
    "print(shop)"
   ]
  },
  {
   "cell_type": "code",
   "execution_count": 9,
   "id": "c54b1a0d",
   "metadata": {},
   "outputs": [],
   "source": [
    "html = \"\"\"\n",
    "<html>\n",
    "   <body>\n",
    "      <form action = \"http://localhost:5000/pushdata\" method = \"post\">\n",
    "         <p>Enter Name:</p>\n",
    "         <p><input type = \"text\" name = \"item\" /></p>\n",
    "         <p><input type = \"text\" name = \"quantity\" /></p>\n",
    "         <p><input type = \"text\" name = \"package\" /></p>\n",
    "         <p><input type = \"submit\" value = \"отправить\" /></p>\n",
    "      </form>   \n",
    "   </body>\n",
    "</html>\n",
    "\n",
    "\"\"\""
   ]
  },
  {
   "cell_type": "code",
   "execution_count": 10,
   "id": "d5fd6662",
   "metadata": {},
   "outputs": [],
   "source": [
    "from flask import Flask\n",
    "from flask import redirect, url_for, request\n",
    "app = Flask(__name__)\n",
    "\n",
    "@app.route('/')\n",
    "def hello_world():\n",
    "    return str(shop) + \"ссылочка на добавление\"\n",
    " \n",
    "@app.route('/hello')\n",
    "def hello_world2():\n",
    "    return 'hello'\n",
    "\n",
    "@app.route('/pushdata',methods = ['POST', 'GET'])\n",
    "def push_data():\n",
    "    if request.method == 'POST':\n",
    "        item = request.form['item']\n",
    "        quantity = request.form['quantity']\n",
    "        package = request.form['package']\n",
    "        shop.push_new_buy(item, quantity, package)\n",
    "         \n",
    "        return redirect('/')\n",
    "    else:\n",
    "        return html\n"
   ]
  },
  {
   "cell_type": "code",
   "execution_count": null,
   "id": "ebd771d2",
   "metadata": {},
   "outputs": [
    {
     "name": "stdout",
     "output_type": "stream",
     "text": [
      " * Serving Flask app \"__main__\" (lazy loading)\n",
      " * Environment: production\n",
      "\u001b[31m   WARNING: This is a development server. Do not use it in a production deployment.\u001b[0m\n",
      "\u001b[2m   Use a production WSGI server instead.\u001b[0m\n",
      " * Debug mode: off\n"
     ]
    },
    {
     "name": "stderr",
     "output_type": "stream",
     "text": [
      " * Running on http://127.0.0.1:5000/ (Press CTRL+C to quit)\n",
      "127.0.0.1 - - [08/Feb/2023 10:26:18] \"GET / HTTP/1.1\" 200 -\n"
     ]
    }
   ],
   "source": [
    "app.run()"
   ]
  },
  {
   "cell_type": "markdown",
   "id": "2d580ada",
   "metadata": {},
   "source": [
    "   if request.method == 'POST':\n",
    "        user = request.form['nm']\n",
    "        return redirect(url_for('success',name = user))\n",
    "    else:"
   ]
  }
 ],
 "metadata": {
  "kernelspec": {
   "display_name": "Python 3 (ipykernel)",
   "language": "python",
   "name": "python3"
  },
  "language_info": {
   "codemirror_mode": {
    "name": "ipython",
    "version": 3
   },
   "file_extension": ".py",
   "mimetype": "text/x-python",
   "name": "python",
   "nbconvert_exporter": "python",
   "pygments_lexer": "ipython3",
   "version": "3.9.13"
  }
 },
 "nbformat": 4,
 "nbformat_minor": 5
}
