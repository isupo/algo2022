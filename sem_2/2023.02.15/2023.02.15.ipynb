{
 "cells": [
  {
   "cell_type": "code",
   "execution_count": 4,
   "id": "dfac6648",
   "metadata": {},
   "outputs": [],
   "source": [
    "import json"
   ]
  },
  {
   "cell_type": "code",
   "execution_count": 1,
   "id": "9c21cf8b",
   "metadata": {},
   "outputs": [],
   "source": []
  },
  {
   "cell_type": "code",
   "execution_count": 13,
   "id": "04449f7d",
   "metadata": {},
   "outputs": [],
   "source": [
    "our_data_dict = {'users' : {'vasia':'123456', 'petia': 'qwerty'}}\n",
    "with open('exemple.txt', 'a', encoding='UTF-8') as file:\n",
    "    # f.write(str(d))\n",
    "    json.dump(our_data_dict, file)"
   ]
  },
  {
   "cell_type": "code",
   "execution_count": 14,
   "id": "da7a7e25",
   "metadata": {},
   "outputs": [
    {
     "data": {
      "text/plain": [
       "'{\"users\": {\"vasia\": \"123456\", \"petia\": \"qwerty\"}}'"
      ]
     },
     "execution_count": 14,
     "metadata": {},
     "output_type": "execute_result"
    }
   ],
   "source": [
    "json.dumps(our_data_dict)"
   ]
  },
  {
   "cell_type": "code",
   "execution_count": 16,
   "id": "c7aa180a",
   "metadata": {},
   "outputs": [],
   "source": [
    "s = '{\"users\": {\"vasia\": \"123456\", \"petia\": \"qwerty\"}}'\n",
    "our_data_dict2 = json.loads(s)"
   ]
  },
  {
   "cell_type": "code",
   "execution_count": 18,
   "id": "4c8cd894",
   "metadata": {},
   "outputs": [
    {
     "data": {
      "text/plain": [
       "{'vasia': '123456', 'petia': 'qwerty'}"
      ]
     },
     "execution_count": 18,
     "metadata": {},
     "output_type": "execute_result"
    }
   ],
   "source": [
    "our_data_dict2['users']"
   ]
  },
  {
   "cell_type": "code",
   "execution_count": 20,
   "id": "ea2fde25",
   "metadata": {},
   "outputs": [],
   "source": [
    " \n",
    "with open('exemple.txt', 'r', encoding='UTF-8') as file:\n",
    "    # f.write(str(d))\n",
    "    our_data_dict3 = json.load(file)"
   ]
  },
  {
   "cell_type": "code",
   "execution_count": 22,
   "id": "eb5adf01",
   "metadata": {},
   "outputs": [
    {
     "data": {
      "text/plain": [
       "{'vasia': '123456', 'petia': 'qwerty'}"
      ]
     },
     "execution_count": 22,
     "metadata": {},
     "output_type": "execute_result"
    }
   ],
   "source": [
    "our_data_dict3['users']"
   ]
  },
  {
   "cell_type": "code",
   "execution_count": null,
   "id": "a0c9c119",
   "metadata": {},
   "outputs": [],
   "source": [
    "{\"vasia\": \"123456\", \"petia\": \"qwerty\"}"
   ]
  },
  {
   "cell_type": "code",
   "execution_count": 29,
   "id": "5661855b",
   "metadata": {},
   "outputs": [],
   "source": [
    "class MyDB:\n",
    "    def __init__(self, filename='db.txt'):\n",
    "        self.db = filename\n",
    "        \n",
    "    def add(self, key: str, value: str):\n",
    "        with open(self.db, 'r', encoding='UTF-8') as f:\n",
    "            data = json.load(f)\n",
    "        \n",
    "        data[key] = value\n",
    "        \n",
    "        with open(self.db, 'w', encoding='UTF-8') as f:\n",
    "            json.dump(data, f)\n",
    "            \n",
    "    def output(self):\n",
    "        with open(self.db, 'r', encoding='UTF-8') as f:\n",
    "            data = json.load(f)\n",
    "        return data"
   ]
  },
  {
   "cell_type": "code",
   "execution_count": 30,
   "id": "b8af61a3",
   "metadata": {},
   "outputs": [],
   "source": [
    "users = MyDB('db.txt')"
   ]
  },
  {
   "cell_type": "code",
   "execution_count": 33,
   "id": "7b483b79",
   "metadata": {},
   "outputs": [],
   "source": [
    "users.add('petia', '123')\n",
    "users.add('vasia', 'qwe')\n",
    "users.add('anna', 'zxc')"
   ]
  },
  {
   "cell_type": "code",
   "execution_count": 34,
   "id": "5ca4f865",
   "metadata": {},
   "outputs": [
    {
     "data": {
      "text/plain": [
       "{'petia': '123', 'vasia': 'qwe', 'anna': 'zxc'}"
      ]
     },
     "execution_count": 34,
     "metadata": {},
     "output_type": "execute_result"
    }
   ],
   "source": [
    "users.output()"
   ]
  },
  {
   "cell_type": "code",
   "execution_count": null,
   "id": "a4fd6eaf",
   "metadata": {},
   "outputs": [],
   "source": []
  }
 ],
 "metadata": {
  "kernelspec": {
   "display_name": "Python 3 (ipykernel)",
   "language": "python",
   "name": "python3"
  },
  "language_info": {
   "codemirror_mode": {
    "name": "ipython",
    "version": 3
   },
   "file_extension": ".py",
   "mimetype": "text/x-python",
   "name": "python",
   "nbconvert_exporter": "python",
   "pygments_lexer": "ipython3",
   "version": "3.9.13"
  }
 },
 "nbformat": 4,
 "nbformat_minor": 5
}
